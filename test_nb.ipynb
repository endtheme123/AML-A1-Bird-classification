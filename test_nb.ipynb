{
 "cells": [
  {
   "cell_type": "code",
   "execution_count": 1,
   "metadata": {},
   "outputs": [],
   "source": [
    "%load_ext autoreload\n",
    "%autoreload 2"
   ]
  },
  {
   "cell_type": "code",
   "execution_count": 2,
   "metadata": {},
   "outputs": [],
   "source": [
    "import os\n",
    "import matplotlib.pyplot as plt \n",
    "import pandas as pd"
   ]
  },
  {
   "cell_type": "code",
   "execution_count": 3,
   "metadata": {},
   "outputs": [
    {
     "data": {
      "text/html": [
       "<div>\n",
       "<style scoped>\n",
       "    .dataframe tbody tr th:only-of-type {\n",
       "        vertical-align: middle;\n",
       "    }\n",
       "\n",
       "    .dataframe tbody tr th {\n",
       "        vertical-align: top;\n",
       "    }\n",
       "\n",
       "    .dataframe thead th {\n",
       "        text-align: right;\n",
       "    }\n",
       "</style>\n",
       "<table border=\"1\" class=\"dataframe\">\n",
       "  <thead>\n",
       "    <tr style=\"text-align: right;\">\n",
       "      <th></th>\n",
       "      <th>path</th>\n",
       "      <th>label</th>\n",
       "    </tr>\n",
       "  </thead>\n",
       "  <tbody>\n",
       "    <tr>\n",
       "      <th>0</th>\n",
       "      <td>Black_footed_Albatross_0004_2731401028.jpg</td>\n",
       "      <td>0</td>\n",
       "    </tr>\n",
       "    <tr>\n",
       "      <th>1</th>\n",
       "      <td>Black_footed_Albatross_0008_1384283201.jpg</td>\n",
       "      <td>0</td>\n",
       "    </tr>\n",
       "    <tr>\n",
       "      <th>2</th>\n",
       "      <td>Black_footed_Albatross_0011_820118444.jpg</td>\n",
       "      <td>0</td>\n",
       "    </tr>\n",
       "    <tr>\n",
       "      <th>3</th>\n",
       "      <td>Black_footed_Albatross_0003_2981373810.jpg</td>\n",
       "      <td>0</td>\n",
       "    </tr>\n",
       "    <tr>\n",
       "      <th>4</th>\n",
       "      <td>Black_footed_Albatross_0021_2443213385.jpg</td>\n",
       "      <td>0</td>\n",
       "    </tr>\n",
       "    <tr>\n",
       "      <th>...</th>\n",
       "      <td>...</td>\n",
       "      <td>...</td>\n",
       "    </tr>\n",
       "    <tr>\n",
       "      <th>4824</th>\n",
       "      <td>Common_Yellowthroat_0012_2573777857.jpg</td>\n",
       "      <td>199</td>\n",
       "    </tr>\n",
       "    <tr>\n",
       "      <th>4825</th>\n",
       "      <td>Common_Yellowthroat_0002_2679007659.jpg</td>\n",
       "      <td>199</td>\n",
       "    </tr>\n",
       "    <tr>\n",
       "      <th>4826</th>\n",
       "      <td>Common_Yellowthroat_0009_2099303008.jpg</td>\n",
       "      <td>199</td>\n",
       "    </tr>\n",
       "    <tr>\n",
       "      <th>4827</th>\n",
       "      <td>Common_Yellowthroat_0008_2691070273.jpg</td>\n",
       "      <td>199</td>\n",
       "    </tr>\n",
       "    <tr>\n",
       "      <th>4828</th>\n",
       "      <td>Common_Yellowthroat_0016_2805250778.jpg</td>\n",
       "      <td>199</td>\n",
       "    </tr>\n",
       "  </tbody>\n",
       "</table>\n",
       "<p>4829 rows × 2 columns</p>\n",
       "</div>"
      ],
      "text/plain": [
       "                                            path  label\n",
       "0     Black_footed_Albatross_0004_2731401028.jpg      0\n",
       "1     Black_footed_Albatross_0008_1384283201.jpg      0\n",
       "2      Black_footed_Albatross_0011_820118444.jpg      0\n",
       "3     Black_footed_Albatross_0003_2981373810.jpg      0\n",
       "4     Black_footed_Albatross_0021_2443213385.jpg      0\n",
       "...                                          ...    ...\n",
       "4824     Common_Yellowthroat_0012_2573777857.jpg    199\n",
       "4825     Common_Yellowthroat_0002_2679007659.jpg    199\n",
       "4826     Common_Yellowthroat_0009_2099303008.jpg    199\n",
       "4827     Common_Yellowthroat_0008_2691070273.jpg    199\n",
       "4828     Common_Yellowthroat_0016_2805250778.jpg    199\n",
       "\n",
       "[4829 rows x 2 columns]"
      ]
     },
     "execution_count": 3,
     "metadata": {},
     "output_type": "execute_result"
    }
   ],
   "source": [
    "root = \"/home/endtheme/git/bird-class/data/\"\n",
    "txt_path = os.path.join(root, \"train.txt\")\n",
    "\n",
    "a = pd.read_csv(txt_path, sep=\" \", names= [\"path\", \"label\"])\n",
    "a"
   ]
  },
  {
   "cell_type": "code",
   "execution_count": 4,
   "metadata": {},
   "outputs": [
    {
     "data": {
      "text/html": [
       "<div>\n",
       "<style scoped>\n",
       "    .dataframe tbody tr th:only-of-type {\n",
       "        vertical-align: middle;\n",
       "    }\n",
       "\n",
       "    .dataframe tbody tr th {\n",
       "        vertical-align: top;\n",
       "    }\n",
       "\n",
       "    .dataframe thead th {\n",
       "        text-align: right;\n",
       "    }\n",
       "</style>\n",
       "<table border=\"1\" class=\"dataframe\">\n",
       "  <thead>\n",
       "    <tr style=\"text-align: right;\">\n",
       "      <th></th>\n",
       "      <th>path</th>\n",
       "      <th>label</th>\n",
       "    </tr>\n",
       "  </thead>\n",
       "  <tbody>\n",
       "    <tr>\n",
       "      <th>0</th>\n",
       "      <td>Black_footed_Albatross_0004_2731401028.jpg</td>\n",
       "      <td>0</td>\n",
       "    </tr>\n",
       "    <tr>\n",
       "      <th>1</th>\n",
       "      <td>Black_footed_Albatross_0008_1384283201.jpg</td>\n",
       "      <td>0</td>\n",
       "    </tr>\n",
       "    <tr>\n",
       "      <th>2</th>\n",
       "      <td>Black_footed_Albatross_0011_820118444.jpg</td>\n",
       "      <td>0</td>\n",
       "    </tr>\n",
       "    <tr>\n",
       "      <th>3</th>\n",
       "      <td>Black_footed_Albatross_0003_2981373810.jpg</td>\n",
       "      <td>0</td>\n",
       "    </tr>\n",
       "    <tr>\n",
       "      <th>4</th>\n",
       "      <td>Black_footed_Albatross_0021_2443213385.jpg</td>\n",
       "      <td>0</td>\n",
       "    </tr>\n",
       "    <tr>\n",
       "      <th>...</th>\n",
       "      <td>...</td>\n",
       "      <td>...</td>\n",
       "    </tr>\n",
       "    <tr>\n",
       "      <th>4824</th>\n",
       "      <td>Common_Yellowthroat_0012_2573777857.jpg</td>\n",
       "      <td>199</td>\n",
       "    </tr>\n",
       "    <tr>\n",
       "      <th>4825</th>\n",
       "      <td>Common_Yellowthroat_0002_2679007659.jpg</td>\n",
       "      <td>199</td>\n",
       "    </tr>\n",
       "    <tr>\n",
       "      <th>4826</th>\n",
       "      <td>Common_Yellowthroat_0009_2099303008.jpg</td>\n",
       "      <td>199</td>\n",
       "    </tr>\n",
       "    <tr>\n",
       "      <th>4827</th>\n",
       "      <td>Common_Yellowthroat_0008_2691070273.jpg</td>\n",
       "      <td>199</td>\n",
       "    </tr>\n",
       "    <tr>\n",
       "      <th>4828</th>\n",
       "      <td>Common_Yellowthroat_0016_2805250778.jpg</td>\n",
       "      <td>199</td>\n",
       "    </tr>\n",
       "  </tbody>\n",
       "</table>\n",
       "<p>4829 rows × 2 columns</p>\n",
       "</div>"
      ],
      "text/plain": [
       "                                            path  label\n",
       "0     Black_footed_Albatross_0004_2731401028.jpg      0\n",
       "1     Black_footed_Albatross_0008_1384283201.jpg      0\n",
       "2      Black_footed_Albatross_0011_820118444.jpg      0\n",
       "3     Black_footed_Albatross_0003_2981373810.jpg      0\n",
       "4     Black_footed_Albatross_0021_2443213385.jpg      0\n",
       "...                                          ...    ...\n",
       "4824     Common_Yellowthroat_0012_2573777857.jpg    199\n",
       "4825     Common_Yellowthroat_0002_2679007659.jpg    199\n",
       "4826     Common_Yellowthroat_0009_2099303008.jpg    199\n",
       "4827     Common_Yellowthroat_0008_2691070273.jpg    199\n",
       "4828     Common_Yellowthroat_0016_2805250778.jpg    199\n",
       "\n",
       "[4829 rows x 2 columns]"
      ]
     },
     "execution_count": 4,
     "metadata": {},
     "output_type": "execute_result"
    }
   ],
   "source": [
    "root = \"/home/endtheme/git/bird-class/data/\"\n",
    "txt_path = os.path.join(root, \"train.txt\")\n",
    "labels = []\n",
    "img_paths = []\n",
    "with open(txt_path, 'r') as file:\n",
    "    for line in file:\n",
    "# Remove any trailing characters like newlines or spaces\n",
    "        line = line.strip().split(\" \")\n",
    "        # print(\"img: \", line[0])\n",
    "        # print(\"label: \", int(line[1])) \n",
    "        labels.append(int(line[1]))\n",
    "        img_paths.append(line[0])\n",
    "data = pd.DataFrame({\"path\":img_paths,\"label\":labels})\n",
    "data"
   ]
  },
  {
   "cell_type": "code",
   "execution_count": 5,
   "metadata": {},
   "outputs": [
    {
     "data": {
      "text/plain": [
       "<Axes: >"
      ]
     },
     "execution_count": 5,
     "metadata": {},
     "output_type": "execute_result"
    },
    {
     "data": {
      "image/png": "[encoded data removed]",
      "text/plain": [
       "<Figure size 640x480 with 1 Axes>"
      ]
     },
     "metadata": {},
     "output_type": "display_data"
    }
   ],
   "source": [
    "data.label.hist()"
   ]
  },
  {
   "cell_type": "code",
   "execution_count": 6,
   "metadata": {},
   "outputs": [],
   "source": [
    "from utils.utils import get_dataloader\n",
    "from torchvision import datasets, transforms\n",
    "batch_size = 4\n",
    "data_path = \"/home/endtheme/git/bird-class/data/\"\n",
    "import torchvision.transforms as transform\n",
    "from torchvision.transforms import v2\n",
    "import torchvision\n",
    "train_transformer = transform.Compose([\n",
    "                           transform.Resize((256, 256)),\n",
    "                           transform.ColorJitter(brightness=0.2, contrast=0.2, saturation=0.2),\n",
    "                           transform.RandomRotation(5),\n",
    "                           transform.RandomGrayscale(),\n",
    "                           transform.RandomResizedCrop(224),\n",
    "                           transform.RandomHorizontalFlip(),\n",
    "                           \n",
    "                           transform.RandomAffine(degrees=11, translate=(0.1,0.1), scale=(0.8,0.8)),\n",
    "                           transform.ToTensor(),\n",
    "                           transform.Normalize((0.4124234616756439, 0.3674212694168091, 0.2578217089176178), \n",
    "                                               (0.3268945515155792, 0.29282665252685547, 0.29053378105163574))\n",
    "])\n",
    "\n",
    "\n",
    "test_transformer = transform.Compose([\n",
    "                           transform.Resize((256, 256)),\n",
    "                           \n",
    "                           transform.ToTensor(),\n",
    "                           transform.Normalize((0.4124234616756439, 0.3674212694168091, 0.2578217089176178), \n",
    "                                               (0.3268945515155792, 0.29282665252685547, 0.29053378105163574))\n",
    "])\n",
    "shuffle = True\n",
    "\n",
    "train_loader,test_loader = get_dataloader(data_path = data_path, train_transform = train_transformer, test_transform = test_transformer, batch_size = batch_size, shuffle = shuffle)\n",
    "\n",
    "\n"
   ]
  },
  {
   "cell_type": "code",
   "execution_count": 7,
   "metadata": {},
   "outputs": [],
   "source": [
    "# import importlib\n",
    "# importlib.reload(model)"
   ]
  },
  {
   "cell_type": "code",
   "execution_count": 8,
   "metadata": {},
   "outputs": [],
   "source": [
    "# for (a,b) in train_loader:\n",
    "#     print(b)"
   ]
  },
  {
   "cell_type": "code",
   "execution_count": 9,
   "metadata": {},
   "outputs": [
    {
     "name": "stderr",
     "output_type": "stream",
     "text": [
      "/home/endtheme/miniconda3/envs/bird/lib/python3.10/site-packages/torchvision/models/_utils.py:208: UserWarning: The parameter 'pretrained' is deprecated since 0.13 and may be removed in the future, please use 'weights' instead.\n",
      "  warnings.warn(\n",
      "/home/endtheme/miniconda3/envs/bird/lib/python3.10/site-packages/torchvision/models/_utils.py:223: UserWarning: Arguments other than a weight enum or `None` for 'weights' are deprecated since 0.13 and may be removed in the future. The current behavior is equivalent to passing `weights=ResNet50_Weights.IMAGENET1K_V1`. You can also use `weights=ResNet50_Weights.DEFAULT` to get the most up-to-date weights.\n",
      "  warnings.warn(msg)\n",
      "  0%|          | 0/10 [00:00<?, ?it/s]"
     ]
    },
    {
     "name": "stdout",
     "output_type": "stream",
     "text": [
      "\n"
     ]
    },
    {
     "name": "stderr",
     "output_type": "stream",
     "text": [
      "  0%|          | 0/10 [08:12<?, ?it/s]\n"
     ]
    },
    {
     "ename": "UnboundLocalError",
     "evalue": "local variable 'valid_loss' referenced before assignment",
     "output_type": "error",
     "traceback": [
      "\u001b[0;31m---------------------------------------------------------------------------\u001b[0m",
      "\u001b[0;31mUnboundLocalError\u001b[0m                         Traceback (most recent call last)",
      "Cell \u001b[0;32mIn[9], line 5\u001b[0m\n\u001b[1;32m      3\u001b[0m model \u001b[38;5;241m=\u001b[39m BirdClassifier()\n\u001b[1;32m      4\u001b[0m trainer \u001b[38;5;241m=\u001b[39m Trainer(model,train_loader, test_loader)\n\u001b[0;32m----> 5\u001b[0m \u001b[43mtrainer\u001b[49m\u001b[38;5;241;43m.\u001b[39;49m\u001b[43mtrain\u001b[49m\u001b[43m(\u001b[49m\u001b[43m)\u001b[49m\n",
      "File \u001b[0;32m~/git/bird-class/trainer.py:67\u001b[0m, in \u001b[0;36mTrainer.train\u001b[0;34m(self, epochs)\u001b[0m\n\u001b[1;32m     64\u001b[0m train_accuracy \u001b[38;5;241m=\u001b[39m \u001b[38;5;28msum\u001b[39m([\u001b[38;5;241m1\u001b[39m \u001b[38;5;28;01mfor\u001b[39;00m g, p \u001b[38;5;129;01min\u001b[39;00m \u001b[38;5;28mzip\u001b[39m(gt, pred) \u001b[38;5;28;01mif\u001b[39;00m g \u001b[38;5;241m==\u001b[39m p]) \u001b[38;5;241m/\u001b[39m \u001b[38;5;28mlen\u001b[39m(gt)\n\u001b[1;32m     65\u001b[0m training_acc_list\u001b[38;5;241m.\u001b[39mappend(train_accuracy)\n\u001b[0;32m---> 67\u001b[0m val_loss, val_acc \u001b[38;5;241m=\u001b[39m \u001b[38;5;28;43mself\u001b[39;49m\u001b[38;5;241;43m.\u001b[39;49m\u001b[43mvalidate\u001b[49m\u001b[43m(\u001b[49m\u001b[43m)\u001b[49m\n\u001b[1;32m     69\u001b[0m testing_loss_list\u001b[38;5;241m.\u001b[39mappend(val_loss)\n\u001b[1;32m     70\u001b[0m testing_acc_list\u001b[38;5;241m.\u001b[39mappend(val_acc)\n",
      "File \u001b[0;32m~/git/bird-class/trainer.py:120\u001b[0m, in \u001b[0;36mTrainer.validate\u001b[0;34m(self)\u001b[0m\n\u001b[1;32m    118\u001b[0m     count \u001b[38;5;241m=\u001b[39m count\u001b[38;5;241m+\u001b[39m\u001b[38;5;241m1\u001b[39m\n\u001b[1;32m    119\u001b[0m     \u001b[38;5;66;03m# update-average-validation-loss\u001b[39;00m\n\u001b[0;32m--> 120\u001b[0m     valid_loss \u001b[38;5;241m+\u001b[39m\u001b[38;5;241m=\u001b[39m loss\u001b[38;5;241m.\u001b[39mitem()\n\u001b[1;32m    121\u001b[0m val_loss \u001b[38;5;241m=\u001b[39m valid_loss\u001b[38;5;241m/\u001b[39mcount\n\u001b[1;32m    122\u001b[0m val_accuracy \u001b[38;5;241m=\u001b[39m \u001b[38;5;28msum\u001b[39m([\u001b[38;5;241m1\u001b[39m \u001b[38;5;28;01mfor\u001b[39;00m g, p \u001b[38;5;129;01min\u001b[39;00m \u001b[38;5;28mzip\u001b[39m(gt, pred) \u001b[38;5;28;01mif\u001b[39;00m g \u001b[38;5;241m==\u001b[39m p]) \u001b[38;5;241m/\u001b[39m \u001b[38;5;28mlen\u001b[39m(gt)\n",
      "\u001b[0;31mUnboundLocalError\u001b[0m: local variable 'valid_loss' referenced before assignment"
     ]
    }
   ],
   "source": [
    "from trainer import Trainer\n",
    "from model.baseline import BirdClassifier\n",
    "model = BirdClassifier()\n",
    "trainer = Trainer(model,train_loader, test_loader)\n",
    "trainer.train()"
   ]
  },
  {
   "cell_type": "code",
   "execution_count": null,
   "metadata": {},
   "outputs": [],
   "source": []
  },
  {
   "cell_type": "code",
   "execution_count": null,
   "metadata": {},
   "outputs": [],
   "source": []
  },
  {
   "cell_type": "code",
   "execution_count": null,
   "metadata": {},
   "outputs": [],
   "source": []
  }
 ],
 "metadata": {
  "kernelspec": {
   "display_name": "bird",
   "language": "python",
   "name": "python3"
  },
  "language_info": {
   "codemirror_mode": {
    "name": "ipython",
    "version": 3
   },
   "file_extension": ".py",
   "mimetype": "text/x-python",
   "name": "python",
   "nbconvert_exporter": "python",
   "pygments_lexer": "ipython3",
   "version": "3.10.15"
  }
 },
 "nbformat": 4,
 "nbformat_minor": 2
}
